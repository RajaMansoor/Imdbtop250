{
 "cells": [
  {
   "cell_type": "markdown",
   "id": "8708c671",
   "metadata": {},
   "source": [
    "# Recurssion HTML Parsing\n",
    "### https://www.imdb.com/search/title/?genres=drama&groups=top_250&sort=user_rating,desc&ref_=adv_prv\n",
    "\n",
    "### Task:\n",
    "## Extract:\n",
    "## 1. Title\n",
    "## 2. Year of release\n",
    "## 3. Duration\n",
    "## 4. Rating"
   ]
  },
  {
   "cell_type": "code",
   "execution_count": null,
   "id": "b686cdfb",
   "metadata": {},
   "outputs": [],
   "source": [
    "import requests\n",
    "from lxml import html\n",
    "from urllib.parse import urljoin"
   ]
  },
  {
   "cell_type": "code",
   "execution_count": null,
   "id": "4f3fe9cd",
   "metadata": {},
   "outputs": [],
   "source": [
    "def htmlParserRecursive(pageURL):\n",
    "    try:\n",
    "        resp = requests.get(url=pageURL,\n",
    "                            headers={\n",
    "                            'User-Agent': 'Mozilla/5.0 (Windows NT 10.0; Win64; x64) AppleWebKit/537.36 (KHTML, like Gecko) Chrome/74.0.3729.131 Safari/537.36'\n",
    "                            })\n",
    "    except requests.exceptions.ConnectionError as e:\n",
    "        print(repr(e))\n",
    "    else:\n",
    "        tree = html.fromstring(html=resp.text)\n",
    "        movies = tree.xpath(\"//div[@class='lister-item-content']\")\n",
    "\n",
    "        for movie in movies:\n",
    "            m = {\n",
    "                'title': movie.xpath(\".//h3/a/text()\"),\n",
    "                'year of release': movie.xpath(\".//h3/span[contains(@class, 'lister-item-year')]/text()\"),\n",
    "                'duration': movie.xpath(\".//p/span[@class='runtime']/text()\"),\n",
    "                'rating': movie.xpath(\".//div[@class='ratings-bar']/div[@name='ir']/@data-value\")\n",
    "                }\n",
    "            top_movies.append(m)\n",
    "        \n",
    "        #Starting Condition\n",
    "        \n",
    "        next_page = tree.xpath('//div[@class=\"desc\"]/a[contains(@class, \"next-page\")]/@href')\n",
    "        print(next_page)\n",
    "        \n",
    "\n",
    "        #Closing Criterion\n",
    "        if len(next_page) != 0:\n",
    "            htmlParserRecursive(pageURL=urljoin(base=pageURL, url=next_page[0]))\n",
    "        else:\n",
    "            return\n",
    "\n",
    "\n"
   ]
  },
  {
   "cell_type": "code",
   "execution_count": null,
   "id": "c90a0cdb",
   "metadata": {},
   "outputs": [],
   "source": [
    "if __name__ == '__main__':\n",
    "    top_movies = []\n",
    "    htmlParserRecursive(pageURL='https://www.imdb.com/search/title?genres=drama&groups=top_250&sort=user_rating,desc')\n",
    "    print(top_movies)\n"
   ]
  }
 ],
 "metadata": {
  "kernelspec": {
   "display_name": "Python 3 (ipykernel)",
   "language": "python",
   "name": "python3"
  },
  "language_info": {
   "codemirror_mode": {
    "name": "ipython",
    "version": 3
   },
   "file_extension": ".py",
   "mimetype": "text/x-python",
   "name": "python",
   "nbconvert_exporter": "python",
   "pygments_lexer": "ipython3",
   "version": "3.9.1"
  }
 },
 "nbformat": 4,
 "nbformat_minor": 5
}
